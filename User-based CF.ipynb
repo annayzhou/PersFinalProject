{
 "cells": [
  {
   "cell_type": "code",
   "execution_count": 1,
   "metadata": {
    "collapsed": true
   },
   "outputs": [],
   "source": [
    "# import subset datasets"
   ]
  },
  {
   "cell_type": "code",
   "execution_count": 2,
   "metadata": {
    "collapsed": true
   },
   "outputs": [],
   "source": [
    "import numpy as np\n",
    "import pandas as pd\n",
    "from sklearn.metrics.pairwise import cosine_similarity\n",
    "mydata = pd.read_csv('subset.csv') # import sub dataset with 10000 unique uesers and 100 hotel_clusters\n",
    "Total = mydata['is_booking'].sum() # print Total"
   ]
  },
  {
   "cell_type": "code",
   "execution_count": 3,
   "metadata": {
    "collapsed": true
   },
   "outputs": [],
   "source": [
    "# Build user-item matrix\n",
    "#-1 means the hotel_cluster is never clicked\n",
    "# 0 means the hotel_cluster is clikced(interested) but not booked\n",
    "# 1 means the hotel_cluster is booked"
   ]
  },
  {
   "cell_type": "code",
   "execution_count": 4,
   "metadata": {},
   "outputs": [
    {
     "name": "stdout",
     "output_type": "stream",
     "text": [
      "37.0\n"
     ]
    }
   ],
   "source": [
    "\n",
    "m = np.zeros((10000,100))\n",
    "m[m==0]=-1\n",
    "\n",
    "userid = mydata['user_id'].unique()\n",
    "hotelcluster = mydata['hotel_cluster'].unique()\n",
    "for index, row in mydata.iterrows():\n",
    "    rowNum = np.where(userid==row['user_id'])\n",
    "    colNum = np.where(hotelcluster==row['hotel_cluster'])\n",
    "    if m[rowNum,colNum]==-1:\n",
    "        m[rowNum,colNum]=row['is_booking']+1\n",
    "    else:\n",
    "        m[rowNum,colNum] = m[rowNum,colNum]+row['is_booking']\n",
    "print (m.max())"
   ]
  },
  {
   "cell_type": "code",
   "execution_count": 5,
   "metadata": {
    "collapsed": true
   },
   "outputs": [],
   "source": [
    "# Split into Train/Test Matrix according to Train/Test split ratio (hyperparameter)"
   ]
  },
  {
   "cell_type": "code",
   "execution_count": 6,
   "metadata": {},
   "outputs": [
    {
     "name": "stdout",
     "output_type": "stream",
     "text": [
      "37.0\n"
     ]
    }
   ],
   "source": [
    "split_ratio = 0.3\n",
    "pMatrix = np.random.rand(10000,100) # Predict Matrix\n",
    "TrainMatrix = np.zeros([10000,100]) # Train Matrix\n",
    "#TrainMatrix[:] = np.NAN\n",
    "TestMatrix = np.zeros([10000,100]) # Test Matrix\n",
    "#TestMatrix[:] = np.NAN\n",
    "test_count = 0\n",
    "for index, x in np.ndenumerate(pMatrix):\n",
    "    if x>=split_ratio:\n",
    "        TrainMatrix[index] = m[index]\n",
    "    else:\n",
    "        test_count +=1\n",
    "        TestMatrix[index] = m[index]\n",
    "print (TrainMatrix.max())\n"
   ]
  },
  {
   "cell_type": "code",
   "execution_count": 7,
   "metadata": {
    "collapsed": true
   },
   "outputs": [],
   "source": [
    "# Make a copy, TMatrix of Train Matrix and convert it to binary matrix\n",
    "# Use TMatrix to calculate similarity\n",
    "# Use TrainMatrix to identify entries need to be predicted"
   ]
  },
  {
   "cell_type": "code",
   "execution_count": 8,
   "metadata": {},
   "outputs": [
    {
     "name": "stdout",
     "output_type": "stream",
     "text": [
      "0.0\n",
      "100071\n"
     ]
    }
   ],
   "source": [
    "TMatrix = TrainMatrix # a copy of Train Matrix\n",
    "TMatrix[TMatrix<0]=0\n",
    "TMatrix[TMatrix>1]=1\n",
    "\n",
    "# Compute the Similarity Matrix\n",
    "user_similarity = cosine_similarity(TMatrix)\n",
    "print (user_similarity.min())\n",
    "print (test_count)"
   ]
  },
  {
   "cell_type": "code",
   "execution_count": 9,
   "metadata": {
    "collapsed": true
   },
   "outputs": [],
   "source": [
    "# Accessory Function Predict"
   ]
  },
  {
   "cell_type": "code",
   "execution_count": 10,
   "metadata": {
    "collapsed": true
   },
   "outputs": [],
   "source": [
    "def predict(rowNum, colNum, k):\n",
    "    topUser = np.argsort(user_similarity[rowNum])[-k:-1]\n",
    "    #print topUser\n",
    "    topSimilarity = user_similarity[rowNum][topUser]\n",
    "    if topSimilarity.max()==0:\n",
    "        prediction = 0.0\n",
    "    else:\n",
    "    #print colNum\n",
    "    #print TrainMatrix[topUser][:,colNum].T.max()\n",
    "        prediction = (TMatrix[topUser][:,colNum].T.dot(topSimilarity))/sum(topSimilarity)\n",
    "        prediction = prediction.round()\n",
    "    return prediction"
   ]
  },
  {
   "cell_type": "code",
   "execution_count": 11,
   "metadata": {
    "collapsed": true
   },
   "outputs": [],
   "source": [
    "# Prediction using k most similar users' rate on the hotel cluster"
   ]
  },
  {
   "cell_type": "code",
   "execution_count": 12,
   "metadata": {},
   "outputs": [
    {
     "name": "stdout",
     "output_type": "stream",
     "text": [
      "[[ 0.  0.  0. ...,  0.  0.  0.]\n",
      " [ 0.  0.  0. ...,  1.  0.  0.]\n",
      " [ 0.  0.  0. ...,  0.  0.  0.]\n",
      " ..., \n",
      " [ 0.  0.  0. ...,  0.  0.  0.]\n",
      " [ 1.  0.  0. ...,  0.  0.  0.]\n",
      " [ 0.  0.  0. ...,  0.  0.  0.]]\n",
      "1.0\n"
     ]
    }
   ],
   "source": [
    "k=21\n",
    "rMatrix = np.zeros([10000,100])\n",
    "for index, item in np.ndenumerate(TrainMatrix):\n",
    "    if item==0:\n",
    "        #colInd = np.where(row==item)\n",
    "        #rowInd = np.where(TrainMatrix == row)\n",
    "        #print index\n",
    "        rMatrix[index] = predict(index[0],index[1],k)\n",
    "print (rMatrix)\n",
    "print (rMatrix.max())"
   ]
  },
  {
   "cell_type": "code",
   "execution_count": 13,
   "metadata": {
    "collapsed": true
   },
   "outputs": [],
   "source": [
    "# Convert the test matrix to a binary matrix"
   ]
  },
  {
   "cell_type": "code",
   "execution_count": 14,
   "metadata": {},
   "outputs": [
    {
     "name": "stdout",
     "output_type": "stream",
     "text": [
      "100071\n"
     ]
    }
   ],
   "source": [
    "TestMatrix[TestMatrix>=2] = 1\n",
    "count = np.count_nonzero(TestMatrix)\n",
    "print (count)"
   ]
  },
  {
   "cell_type": "code",
   "execution_count": 15,
   "metadata": {},
   "outputs": [
    {
     "name": "stdout",
     "output_type": "stream",
     "text": [
      "12241\n",
      "Recall is 0.21\n"
     ]
    }
   ],
   "source": [
    "TrueItems = np.count_nonzero(TestMatrix==1)\n",
    "print (TrueItems)\n",
    "\n",
    "TruePositive = 0\n",
    "row, col = TestMatrix.shape\n",
    "for i in range(row):\n",
    "    for j in range(col):\n",
    "        if TestMatrix[i,j] == rMatrix[i,j] and TestMatrix[i, j] == 1:\n",
    "            TruePositive += 1\n",
    "recall = TruePositive / (1.0*TrueItems)\n",
    "print ('Recall is {:.3}'.format(recall))"
   ]
  },
  {
   "cell_type": "code",
   "execution_count": 16,
   "metadata": {},
   "outputs": [
    {
     "name": "stdout",
     "output_type": "stream",
     "text": [
      "Precision is 0.156\n"
     ]
    }
   ],
   "source": [
    "Positive = np.count_nonzero(rMatrix==1)\n",
    "Precision = TruePositive/(1.0*Positive)\n",
    "print ('Precision is {:.3}'.format(Precision))"
   ]
  },
  {
   "cell_type": "code",
   "execution_count": 17,
   "metadata": {
    "scrolled": true
   },
   "outputs": [
    {
     "name": "stdout",
     "output_type": "stream",
     "text": [
      "16463\n",
      "12241\n",
      "23564\n"
     ]
    }
   ],
   "source": [
    "TestMatrix[TestMatrix<0] = 0\n",
    "\n",
    "print np.count_nonzero(rMatrix)\n",
    "print np.count_nonzero(TestMatrix)\n",
    "print np.count_nonzero(rMatrix - TestMatrix)"
   ]
  },
  {
   "cell_type": "code",
   "execution_count": 18,
   "metadata": {
    "collapsed": true
   },
   "outputs": [],
   "source": [
    "# Print accuracy\n",
    "# Print base_line accuracy"
   ]
  },
  {
   "cell_type": "code",
   "execution_count": 19,
   "metadata": {},
   "outputs": [
    {
     "name": "stdout",
     "output_type": "stream",
     "text": [
      "User-based collaborative filtering accuracy is 0.765\n",
      "Baseline accuracy is 0.878\n"
     ]
    }
   ],
   "source": [
    "accuracy = 1-(np.count_nonzero(rMatrix - TestMatrix)/(1.0*count))\n",
    "print ('User-based collaborative filtering accuracy is {:.3}'.format(accuracy))\n",
    "\n",
    "# baseline, assume all predicted entries to be 0\n",
    "base_TestMatrix = np.count_nonzero(TestMatrix)\n",
    "baseline_accuracy = (test_count - base_TestMatrix) / (1.0 * test_count)\n",
    "print 'Baseline accuracy is {:.3}'.format(baseline_accuracy)"
   ]
  },
  {
   "cell_type": "code",
   "execution_count": 20,
   "metadata": {},
   "outputs": [
    {
     "name": "stdout",
     "output_type": "stream",
     "text": [
      "[80 43 58 77 37 62 20 70  1 49]\n"
     ]
    }
   ],
   "source": [
    "#Print out the 10 most popular items in the original dataset\n",
    "m[m<0] = 0\n",
    "#m[m>1] = 1\n",
    "popularity = np.sum(m, axis=0)\n",
    "print np.argsort(popularity)[-10:,]\n",
    "#print m.max()"
   ]
  },
  {
   "cell_type": "code",
   "execution_count": 21,
   "metadata": {
    "scrolled": false
   },
   "outputs": [
    {
     "name": "stdout",
     "output_type": "stream",
     "text": [
      "[77 58 60 20 43 80 62 70  1 49]\n",
      "Labels of Hotel Clusters recommended based on prediction\n",
      "[  0.   1.   2.   3.   4.   5.   6.   7.   8.   9.  10.  11.  12.  13.  14.\n",
      "  15.  16.  17.  18.  19.  20.  21.  22.  23.  24.  25.  26.  27.  28.  29.\n",
      "  30.  31.  32.  33.  34.  35.  36.  37.  38.  39.  40.  41.  42.  43.  44.\n",
      "  45.  46.  47.  48.  49.  50.  51.  52.  53.  54.  55.  56.  57.  58.  59.\n",
      "  60.  61.  62.  63.  64.  65.  66.  67.  68.  69.  70.  71.  72.  73.  74.\n",
      "  75.  76.  77.  78.  79.  80.  81.  82.  83.  84.  85.  86.  87.  88.  89.\n",
      "  90.  91.  92.  93.  94.  95.  96.  97.  98.  99.]\n",
      "Labels of Hotel Clusters recommended based on original dataset\n",
      "[  0.   1.   2.   3.   4.   5.   6.   7.   8.   9.  10.  11.  12.  13.  14.\n",
      "  15.  16.  17.  18.  19.  20.  21.  22.  23.  24.  25.  26.  27.  28.  29.\n",
      "  30.  31.  32.  33.  34.  35.  36.  37.  38.  39.  40.  41.  42.  43.  44.\n",
      "  45.  46.  47.  48.  49.  50.  51.  52.  53.  54.  55.  56.  57.  58.  59.\n",
      "  60.  61.  62.  63.  64.  65.  66.  67.  68.  69.  70.  71.  72.  73.  74.\n",
      "  75.  76.  77.  78.  79.  80.  81.  82.  83.  84.  85.  86.  87.  88.  89.\n",
      "  90.  91.  92.  93.  94.  95.  96.  97.  98.  99.]\n"
     ]
    }
   ],
   "source": [
    "#Combine the predicted entries with the TMatrix to get a completed prediction matrix\n",
    "result = TMatrix + rMatrix\n",
    "#print result.max()\n",
    "\n",
    "#Print out the 10 most popular items in the resulted prediction matrix\n",
    "Rpopularity = np.sum(result, axis=0)\n",
    "print np.argsort(Rpopularity)[-10:,]\n",
    "\n",
    "#Coverage of the recommendation based on predicted results\n",
    "recommendation = np.zeros([10000,5])\n",
    "for rowNum in range(result.shape[0]):\n",
    "    #print sum(result[rowNum])\n",
    "    recommend = np.argsort(result[rowNum])[-5:,]\n",
    "    #print recomend\n",
    "    recommendation[rowNum]=recommend\n",
    "#Print out the labels of hotels that appeared at least once in the recommendations for each user\n",
    "print \"Labels of Hotel Clusters recommended based on prediction\"\n",
    "print np.unique(recommendation)\n",
    "\n",
    "#Coverage of the recomendation based on original dataset\n",
    "Mrecommendation = np.zeros([10000,5])\n",
    "for rowN in range(m.shape[0]):\n",
    "    #print sum(m[rowN])\n",
    "    Mrecommend = np.argsort(m[rowN])[-5:,]\n",
    "    #print recomend\n",
    "    Mrecommendation[rowN]=Mrecommend\n",
    "#Print out the labels of hotels that appeared at least once in the recommendations for each user\n",
    "print \"Labels of Hotel Clusters recommended based on original dataset\"\n",
    "print np.unique(Mrecommendation)\n",
    "\n",
    "    "
   ]
  },
  {
   "cell_type": "code",
   "execution_count": 22,
   "metadata": {},
   "outputs": [
    {
     "name": "stdout",
     "output_type": "stream",
     "text": [
      "9234\n"
     ]
    }
   ],
   "source": [
    "#Count the number of same recommendations given by our result compared to the original matrix\n",
    "count = 0\n",
    "for rowNum in range(result.shape[0]):\n",
    "    recommend = np.argsort(result[rowNum])[-5:,]\n",
    "    Mrecomend = np.argsort(m[rowN])[-5:,]\n",
    "    if recommend.all() == Mrecomend.all():\n",
    "        count+=1\n",
    "print count"
   ]
  },
  {
   "cell_type": "code",
   "execution_count": null,
   "metadata": {
    "collapsed": true
   },
   "outputs": [],
   "source": []
  }
 ],
 "metadata": {
  "kernelspec": {
   "display_name": "Python 2",
   "language": "python",
   "name": "python2"
  },
  "language_info": {
   "codemirror_mode": {
    "name": "ipython",
    "version": 2
   },
   "file_extension": ".py",
   "mimetype": "text/x-python",
   "name": "python",
   "nbconvert_exporter": "python",
   "pygments_lexer": "ipython2",
   "version": "2.7.13"
  }
 },
 "nbformat": 4,
 "nbformat_minor": 2
}
