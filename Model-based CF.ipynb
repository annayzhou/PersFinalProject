{
 "cells": [
  {
   "cell_type": "code",
   "execution_count": 18,
   "metadata": {},
   "outputs": [
    {
     "name": "stdout",
     "output_type": "stream",
     "text": [
      "37.0\n"
     ]
    }
   ],
   "source": [
    "import numpy as np\n",
    "import pandas as pd\n",
    "mydata = pd.read_csv('subset.csv')\n",
    "Total = mydata['is_booking'].sum()\n",
    "#print Total\n",
    "#-1 means the hotel_cluster is never clicked\n",
    "# 0 means the hotel_cluster is clikced(interested) but not booked\n",
    "# 1 means the hotel_cluster is booked\n",
    "m = np.zeros((10000,100))\n",
    "m[m==0]=-1\n",
    "#Build the dataset Matrix\n",
    "userid = mydata['user_id'].unique()\n",
    "hotelcluster = mydata['hotel_cluster'].unique()\n",
    "for index, row in mydata.iterrows():\n",
    "    rowNum = np.where(userid==row['user_id'])\n",
    "    colNum = np.where(hotelcluster==row['hotel_cluster'])\n",
    "    if m[rowNum,colNum]==-1:\n",
    "        m[rowNum,colNum]=row['is_booking']+1\n",
    "    else:\n",
    "        m[rowNum,colNum] = m[rowNum,colNum]+row['is_booking']\n",
    "print m.max()"
   ]
  },
  {
   "cell_type": "code",
   "execution_count": 19,
   "metadata": {
    "collapsed": true
   },
   "outputs": [],
   "source": [
    "#############################    Below are analysis for SVD    #####################################\n",
    "import scipy.sparse as sp\n",
    "from scipy.sparse.linalg import svds\n",
    "from math import sqrt"
   ]
  },
  {
   "cell_type": "code",
   "execution_count": 20,
   "metadata": {
    "collapsed": true
   },
   "outputs": [],
   "source": [
    "def accuracy(pred_mat,TestIndex,TestMatrix):\n",
    "    new_mat = np.zeros((10000, 100))\n",
    "    for index in TestIndex:\n",
    "        new_mat[index] = pred_mat[index]\n",
    "    return 1-(np.count_nonzero(new_mat - TestMatrix)/(1.0*len(TestIndex)))\n",
    "\n",
    "def splitDataSet(percent):\n",
    "    pMatrix = np.random.rand(10000,100)\n",
    "    TrainMatrix = np.zeros([10000,100])\n",
    "    TestMatrix = np.zeros([10000,100])\n",
    "    TestIndex = []\n",
    "    for index, x in np.ndenumerate(pMatrix):\n",
    "        if x >= percent:\n",
    "            TrainMatrix[index] = m[index]\n",
    "        else:\n",
    "            TestIndex.append(index)\n",
    "            TestMatrix[index] = m[index]\n",
    "    TrainMatrix[TrainMatrix<0]=0\n",
    "    TrainMatrix[TrainMatrix>1]=1\n",
    "    TestMatrix[TestMatrix>=2] = 1\n",
    "    TestMatrix[TestMatrix<0] = 0\n",
    "    return TrainMatrix,TestMatrix,TestIndex"
   ]
  },
  {
   "cell_type": "code",
   "execution_count": 13,
   "metadata": {},
   "outputs": [
    {
     "ename": "KeyboardInterrupt",
     "evalue": "",
     "output_type": "error",
     "traceback": [
      "\u001b[0;31m---------------------------------------------------------------------------\u001b[0m",
      "\u001b[0;31mKeyboardInterrupt\u001b[0m                         Traceback (most recent call last)",
      "\u001b[0;32m<ipython-input-13-cd9dad316440>\u001b[0m in \u001b[0;36m<module>\u001b[0;34m()\u001b[0m\n\u001b[1;32m      4\u001b[0m     \u001b[0mcur_accuracy\u001b[0m \u001b[0;34m=\u001b[0m \u001b[0;34m[\u001b[0m\u001b[0;34m]\u001b[0m\u001b[0;34m\u001b[0m\u001b[0m\n\u001b[1;32m      5\u001b[0m     \u001b[0;32mfor\u001b[0m \u001b[0mj\u001b[0m \u001b[0;32min\u001b[0m \u001b[0mrange\u001b[0m\u001b[0;34m(\u001b[0m\u001b[0;36m1\u001b[0m\u001b[0;34m,\u001b[0m\u001b[0;36m6\u001b[0m\u001b[0;34m)\u001b[0m\u001b[0;34m:\u001b[0m\u001b[0;34m\u001b[0m\u001b[0m\n\u001b[0;32m----> 6\u001b[0;31m         \u001b[0mTrainMatrix\u001b[0m\u001b[0;34m,\u001b[0m\u001b[0mTestMatrix\u001b[0m\u001b[0;34m,\u001b[0m\u001b[0mTestIndex\u001b[0m \u001b[0;34m=\u001b[0m \u001b[0msplitDataSet\u001b[0m\u001b[0;34m(\u001b[0m\u001b[0;36m0.1\u001b[0m\u001b[0;34m)\u001b[0m\u001b[0;34m\u001b[0m\u001b[0m\n\u001b[0m\u001b[1;32m      7\u001b[0m         \u001b[0mu\u001b[0m\u001b[0;34m,\u001b[0m \u001b[0ms\u001b[0m\u001b[0;34m,\u001b[0m \u001b[0mvt\u001b[0m \u001b[0;34m=\u001b[0m \u001b[0msvds\u001b[0m\u001b[0;34m(\u001b[0m\u001b[0mTrainMatrix\u001b[0m\u001b[0;34m,\u001b[0m \u001b[0mk\u001b[0m \u001b[0;34m=\u001b[0m \u001b[0mi\u001b[0m\u001b[0;34m)\u001b[0m\u001b[0;34m\u001b[0m\u001b[0m\n\u001b[1;32m      8\u001b[0m         \u001b[0ms_diag_matrix\u001b[0m \u001b[0;34m=\u001b[0m \u001b[0mnp\u001b[0m\u001b[0;34m.\u001b[0m\u001b[0mdiag\u001b[0m\u001b[0;34m(\u001b[0m\u001b[0ms\u001b[0m\u001b[0;34m)\u001b[0m\u001b[0;34m\u001b[0m\u001b[0m\n",
      "\u001b[0;32m<ipython-input-4-f2954e0dc48d>\u001b[0m in \u001b[0;36msplitDataSet\u001b[0;34m(percent)\u001b[0m\n\u001b[1;32m     10\u001b[0m     \u001b[0mTestMatrix\u001b[0m \u001b[0;34m=\u001b[0m \u001b[0mnp\u001b[0m\u001b[0;34m.\u001b[0m\u001b[0mzeros\u001b[0m\u001b[0;34m(\u001b[0m\u001b[0;34m[\u001b[0m\u001b[0;36m10000\u001b[0m\u001b[0;34m,\u001b[0m\u001b[0;36m100\u001b[0m\u001b[0;34m]\u001b[0m\u001b[0;34m)\u001b[0m\u001b[0;34m\u001b[0m\u001b[0m\n\u001b[1;32m     11\u001b[0m     \u001b[0mTestIndex\u001b[0m \u001b[0;34m=\u001b[0m \u001b[0;34m[\u001b[0m\u001b[0;34m]\u001b[0m\u001b[0;34m\u001b[0m\u001b[0m\n\u001b[0;32m---> 12\u001b[0;31m     \u001b[0;32mfor\u001b[0m \u001b[0mindex\u001b[0m\u001b[0;34m,\u001b[0m \u001b[0mx\u001b[0m \u001b[0;32min\u001b[0m \u001b[0mnp\u001b[0m\u001b[0;34m.\u001b[0m\u001b[0mndenumerate\u001b[0m\u001b[0;34m(\u001b[0m\u001b[0mpMatrix\u001b[0m\u001b[0;34m)\u001b[0m\u001b[0;34m:\u001b[0m\u001b[0;34m\u001b[0m\u001b[0m\n\u001b[0m\u001b[1;32m     13\u001b[0m         \u001b[0;32mif\u001b[0m \u001b[0mx\u001b[0m \u001b[0;34m>=\u001b[0m \u001b[0mpercent\u001b[0m\u001b[0;34m:\u001b[0m\u001b[0;34m\u001b[0m\u001b[0m\n\u001b[1;32m     14\u001b[0m             \u001b[0mTrainMatrix\u001b[0m\u001b[0;34m[\u001b[0m\u001b[0mindex\u001b[0m\u001b[0;34m]\u001b[0m \u001b[0;34m=\u001b[0m \u001b[0mm\u001b[0m\u001b[0;34m[\u001b[0m\u001b[0mindex\u001b[0m\u001b[0;34m]\u001b[0m\u001b[0;34m\u001b[0m\u001b[0m\n",
      "\u001b[0;32m/Users/yunwencai/anaconda/envs/py27/lib/python2.7/site-packages/numpy/lib/index_tricks.pyc\u001b[0m in \u001b[0;36m__next__\u001b[0;34m(self)\u001b[0m\n\u001b[1;32m    515\u001b[0m \u001b[0;34m\u001b[0m\u001b[0m\n\u001b[1;32m    516\u001b[0m         \"\"\"\n\u001b[0;32m--> 517\u001b[0;31m         \u001b[0;32mreturn\u001b[0m \u001b[0mself\u001b[0m\u001b[0;34m.\u001b[0m\u001b[0miter\u001b[0m\u001b[0;34m.\u001b[0m\u001b[0mcoords\u001b[0m\u001b[0;34m,\u001b[0m \u001b[0mnext\u001b[0m\u001b[0;34m(\u001b[0m\u001b[0mself\u001b[0m\u001b[0;34m.\u001b[0m\u001b[0miter\u001b[0m\u001b[0;34m)\u001b[0m\u001b[0;34m\u001b[0m\u001b[0m\n\u001b[0m\u001b[1;32m    518\u001b[0m \u001b[0;34m\u001b[0m\u001b[0m\n\u001b[1;32m    519\u001b[0m     \u001b[0;32mdef\u001b[0m \u001b[0m__iter__\u001b[0m\u001b[0;34m(\u001b[0m\u001b[0mself\u001b[0m\u001b[0;34m)\u001b[0m\u001b[0;34m:\u001b[0m\u001b[0;34m\u001b[0m\u001b[0m\n",
      "\u001b[0;31mKeyboardInterrupt\u001b[0m: "
     ]
    }
   ],
   "source": [
    "#get SVD components from train matrix. Choose k.\n",
    "accuracy_ls = []\n",
    "for i in range(1,100):\n",
    "    cur_accuracy = []\n",
    "    for j in range(1,6):\n",
    "        TrainMatrix,TestMatrix,TestIndex = splitDataSet(0.1)\n",
    "        u, s, vt = svds(TrainMatrix, k = i)\n",
    "        s_diag_matrix = np.diag(s)\n",
    "        X_pred = np.dot(np.dot(u, s_diag_matrix), vt)\n",
    "        # If predicted entry < 0.5, set it to 0. If predicted entry >= 0.5, set it to 1.\n",
    "        X_pred[X_pred<0.5]=0\n",
    "        X_pred[X_pred>=0.5]=1\n",
    "        cur_accuracy.append(accuracy(X_pred,TestIndex,TestMatrix))\n",
    "    accuracy_ls.append(np.mean(cur_accuracy))"
   ]
  },
  {
   "cell_type": "code",
   "execution_count": 16,
   "metadata": {},
   "outputs": [
    {
     "name": "stdout",
     "output_type": "stream",
     "text": [
      "[0.12240848329476786, 0.12355541353783885, 0.12299205472524255, 0.12305753464848086, 0.12320981738806368, 0.12363420546351157, 0.12371271855791054, 0.122868784894528, 0.12324793294521051, 0.12257426928605654]\n"
     ]
    }
   ],
   "source": [
    "# Baseline\n",
    "baseline = []\n",
    "for i in range(1,11):\n",
    "    TrainMatrix,TestMatrix,TestIndex = splitDataSet(0.3)\n",
    "    baseline.append(np.count_nonzero(TestMatrix)/(len(TestIndex)*1.0))\n",
    "print baseline"
   ]
  },
  {
   "cell_type": "code",
   "execution_count": 17,
   "metadata": {},
   "outputs": [
    {
     "data": {
      "text/plain": [
       "0.87687387852583887"
      ]
     },
     "execution_count": 17,
     "metadata": {},
     "output_type": "execute_result"
    }
   ],
   "source": [
    "1-np.mean(baseline)"
   ]
  },
  {
   "cell_type": "code",
   "execution_count": 26,
   "metadata": {},
   "outputs": [
    {
     "name": "stdout",
     "output_type": "stream",
     "text": [
      "1.0\n",
      "[58 43 69 37 20 80 62 70  1 49]\n",
      "[  0.   1.   2.   3.   4.   6.   7.   8.   9.  10.  11.  12.  13.  14.  15.\n",
      "  16.  17.  18.  19.  20.  21.  22.  23.  24.  25.  26.  27.  28.  29.  30.\n",
      "  31.  32.  33.  34.  35.  36.  37.  38.  39.  40.  41.  42.  43.  44.  45.\n",
      "  46.  47.  48.  49.  50.  51.  52.  53.  54.  55.  56.  57.  58.  59.  60.\n",
      "  61.  62.  63.  64.  65.  66.  67.  68.  69.  70.  71.  72.  73.  74.  75.\n",
      "  76.  77.  78.  79.  80.  81.  82.  83.  84.  86.  87.  89.  95.  96.  97.\n",
      "  98.  99.]\n",
      "92\n",
      "[  0.   1.   2.   3.   4.   5.   6.   7.   8.   9.  10.  11.  12.  13.  14.\n",
      "  15.  16.  17.  18.  19.  20.  21.  22.  23.  24.  25.  26.  27.  28.  29.\n",
      "  30.  31.  32.  33.  34.  35.  36.  37.  38.  39.  40.  41.  42.  43.  44.\n",
      "  45.  46.  47.  48.  49.  50.  51.  52.  53.  54.  55.  56.  57.  58.  59.\n",
      "  60.  61.  62.  63.  64.  65.  66.  67.  68.  69.  70.  71.  72.  73.  74.\n",
      "  75.  76.  77.  78.  79.  80.  81.  82.  83.  84.  85.  86.  87.  88.  89.\n",
      "  90.  91.  92.  93.  94.  95.  96.  97.  98.  99.]\n",
      "100\n",
      "9797\n"
     ]
    }
   ],
   "source": [
    "#Combine the predicted entries with the trainMatrix\n",
    "TrainMatrix,TestMatrix,TestIndex = splitDataSet(0.1)\n",
    "u, s, vt = svds(TrainMatrix, k = 8)\n",
    "s_diag_matrix = np.diag(s)\n",
    "result = np.dot(np.dot(u, s_diag_matrix), vt)\n",
    "result[result<0.5]=0\n",
    "result[result>=0.5]=1\n",
    "print result.max()\n",
    "\n",
    "#Popular items in the resulted matrix\n",
    "Rpopularity = np.sum(result, axis=0)\n",
    "print np.argsort(Rpopularity)[-10:,]\n",
    "\n",
    "#Coverage of the recommendation based on predicted results\n",
    "recommendation = np.zeros([10000,5])\n",
    "for rowNum in range(result.shape[0]):\n",
    "    #print sum(result[rowNum])\n",
    "    recommend = np.argsort(result[rowNum])[-5:,]\n",
    "    #print recomend\n",
    "    recommendation[rowNum]=recommend\n",
    "print np.unique(recommendation)\n",
    "print len(np.unique(recommendation))\n",
    "\n",
    "#Coverage of the recomendation based on original dataset\n",
    "Mrecommendation = np.zeros([10000,5])\n",
    "for rowN in range(m.shape[0]):\n",
    "    #print sum(m[rowN])\n",
    "    Mrecommend = np.argsort(m[rowN])[-5:,]\n",
    "    #print recomend\n",
    "    Mrecommendation[rowN]=Mrecommend\n",
    "print np.unique(Mrecommendation)\n",
    "print len(np.unique(Mrecommendation))\n",
    "\n",
    "#Count the number of same recommendations given by our result compared to the original matrix\n",
    "count = 0\n",
    "for rowNum in range(result.shape[0]):\n",
    "    recommend = np.argsort(result[rowNum])[-5:,]\n",
    "    Mrecomend = np.argsort(m[rowN])[-5:,]\n",
    "    if recommend.all() == Mrecomend.all():\n",
    "        count+=1\n",
    "print count"
   ]
  },
  {
   "cell_type": "code",
   "execution_count": null,
   "metadata": {
    "collapsed": true
   },
   "outputs": [],
   "source": []
  }
 ],
 "metadata": {
  "kernelspec": {
   "display_name": "Python 2",
   "language": "python",
   "name": "python2"
  },
  "language_info": {
   "codemirror_mode": {
    "name": "ipython",
    "version": 2
   },
   "file_extension": ".py",
   "mimetype": "text/x-python",
   "name": "python",
   "nbconvert_exporter": "python",
   "pygments_lexer": "ipython2",
   "version": "2.7.13"
  }
 },
 "nbformat": 4,
 "nbformat_minor": 2
}
