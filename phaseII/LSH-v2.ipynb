{
 "cells": [
  {
   "cell_type": "code",
   "execution_count": 23,
   "metadata": {
    "collapsed": true
   },
   "outputs": [],
   "source": [
    "from datasketch import MinHash, MinHashLSH\n",
    "from math import sqrt\n",
    "import numpy as np\n",
    "import pandas as pd\n",
    "import copy\n",
    "import timeit\n",
    "from sklearn.metrics.pairwise import cosine_similarity\n",
    "mydata = pd.read_csv('subset_numeric.csv') # import sub dataset with 10000 unique uesers and 100 hotel_clusters\n",
    "Total = mydata['is_booking'].sum() # print Total"
   ]
  },
  {
   "cell_type": "code",
   "execution_count": 24,
   "metadata": {},
   "outputs": [
    {
     "name": "stdout",
     "output_type": "stream",
     "text": [
      "37.0\n"
     ]
    }
   ],
   "source": [
    "matrix = np.zeros((10000,100))\n",
    "matrix[matrix==0]=-1\n",
    "\n",
    "userid = mydata['user_id'].unique()\n",
    "hotelcluster = mydata['hotel_cluster'].unique()\n",
    "for index, row in mydata.iterrows():\n",
    "    rowNum = np.where(userid==row['user_id'])\n",
    "    colNum = np.where(hotelcluster==row['hotel_cluster'])\n",
    "    if matrix[rowNum,colNum]==-1:\n",
    "        matrix[rowNum,colNum]=row['is_booking']+1\n",
    "    else:\n",
    "        matrix[rowNum,colNum] = matrix[rowNum,colNum]+row['is_booking']\n",
    "print (matrix.max())"
   ]
  },
  {
   "cell_type": "code",
   "execution_count": 25,
   "metadata": {},
   "outputs": [
    {
     "name": "stdout",
     "output_type": "stream",
     "text": [
      "37.0\n"
     ]
    }
   ],
   "source": [
    "split_ratio = 0.3\n",
    "pMatrix = np.random.rand(10000,100) # Predict Matrix\n",
    "TrainMatrix = np.zeros([10000,100]) # Train Matrix\n",
    "#TrainMatrix[:] = np.NAN\n",
    "TestMatrix = np.zeros([10000,100]) # Test Matrix\n",
    "#TestMatrix[:] = np.NAN\n",
    "test_count = 0\n",
    "for index, x in np.ndenumerate(pMatrix):\n",
    "    if x>=split_ratio:\n",
    "        TrainMatrix[index] = matrix[index]\n",
    "    else:\n",
    "        test_count +=1\n",
    "        TestMatrix[index] = matrix[index]\n",
    "print (TrainMatrix.max())"
   ]
  },
  {
   "cell_type": "code",
   "execution_count": 26,
   "metadata": {},
   "outputs": [
    {
     "name": "stdout",
     "output_type": "stream",
     "text": [
      "0.0\n",
      "300734\n"
     ]
    }
   ],
   "source": [
    "TMatrix =copy.deepcopy(TrainMatrix)  # a copy of Train Matrix\n",
    "TMatrix[TMatrix<0]=0\n",
    "\n",
    "TestM= copy.deepcopy(TestMatrix) \n",
    "TestM[TestM<0]=0\n",
    "\n",
    "\n",
    "user_similarity = cosine_similarity(TMatrix)\n",
    "print (user_similarity.min())\n",
    "print (test_count)"
   ]
  },
  {
   "cell_type": "code",
   "execution_count": 27,
   "metadata": {
    "collapsed": true
   },
   "outputs": [],
   "source": [
    "def predict(current,index, k,user_similarity,LSHresult):\n",
    "    if len(LSHresult)==0:\n",
    "        topUser = np.argsort(user_similarity[current])[-k:-1]\n",
    "    if len(LSHresult)>k:\n",
    "        topUser = np.argsort(user_similarity[current][LSHresult])[-k:-1]\n",
    "    else:\n",
    "        topUser = np.argsort(user_similarity[current][LSHresult])\n",
    "    topSimilarity = user_similarity[current][topUser]\n",
    "    if topSimilarity.max()==0:\n",
    "        prediction = 0.0\n",
    "    else:\n",
    "        prediction = (TMatrix[topUser][:,index].T.dot(topSimilarity))/sum(topSimilarity)\n",
    "    return prediction"
   ]
  },
  {
   "cell_type": "code",
   "execution_count": 28,
   "metadata": {
    "collapsed": true
   },
   "outputs": [],
   "source": [
    "def prediction(LSHresult,current):\n",
    "    current = int(current)\n",
    "    LSHresult = [ int(x) for x in LSHresult ]\n",
    "    k=21\n",
    "    rMatrix = np.zeros(100)\n",
    "    for index in range (len(TrainMatrix[current])):\n",
    "        if TrainMatrix[current][index]==0:\n",
    "            rMatrix[index] = predict(current,index,k, user_similarity,LSHresult)\n",
    "    return rMatrix"
   ]
  },
  {
   "cell_type": "code",
   "execution_count": 54,
   "metadata": {},
   "outputs": [],
   "source": [
    "def model(thres,permutations):\n",
    "    lsh = MinHashLSH(params = thres, num_perm=permutations)\n",
    "    m = []\n",
    "    for i in range (len(TMatrix)):\n",
    "        tempm = MinHash(num_perm=permutations)\n",
    "        m.append(tempm)\n",
    "        for j in TMatrix[i]:\n",
    "            tempm.update(j)\n",
    "        name = str(i)\n",
    "        lsh.insert(name, tempm)\n",
    "\n",
    "    result1 = lsh.query(m[4])\n",
    "    print len(result1)\n",
    "    \n",
    "    resultM = []\n",
    "    for i in range (len(m)):\n",
    "        res = lsh.query(m[i])\n",
    "        pred = prediction(res,i)\n",
    "        resultM.append(pred)\n",
    "    return resultM"
   ]
  },
  {
   "cell_type": "code",
   "execution_count": 40,
   "metadata": {},
   "outputs": [],
   "source": [
    "def calculateRMSE(resultM):\n",
    "    error = resultM - TestM\n",
    "    #print error\n",
    "    sqError = error**2\n",
    "\n",
    "    sumSqerror =0\n",
    "    for i in sqError:\n",
    "        for j in i:\n",
    "            sumSqerror+=j\n",
    "    rmse = sqrt(sumSqerror/test_count)\n",
    "    return rmse"
   ]
  },
  {
   "cell_type": "code",
   "execution_count": 41,
   "metadata": {},
   "outputs": [],
   "source": [
    "def recommendation(modelResult):\n",
    "    recommendOutput = []\n",
    "    result = modelResult+TMatrix\n",
    "    \n",
    "    #Popular items in the resulted matrix\n",
    "    Rpopularity = np.sum(result, axis=0)\n",
    "    #print np.argsort(Rpopularity)[-10:,]\n",
    "\n",
    "    #Popular items in the original matrix\n",
    "    ORpopularity = np.sum(matrix, axis=0)\n",
    "    #print np.argsort(Rpopularity)[-10:,]\n",
    "    \n",
    "    recommendOutput.append((np.argsort(Rpopularity)[-10:,], np.argsort(ORpopularity)[-10:,]))\n",
    "\n",
    "    #Coverage of the recommendation based on predicted results\n",
    "    recommendation = np.zeros([10000,5])\n",
    "    for rowNum in range(result.shape[0]):\n",
    "        recommend = np.argsort(result[rowNum])[-5:,]\n",
    "        recommendation[rowNum]=recommend\n",
    "    #print np.unique(recommendation)\n",
    "    #print len(np.unique(recommendation))\n",
    "\n",
    "    #Coverage of the recomendation based on original dataset\n",
    "    Mrecommendation = np.zeros([10000,5])\n",
    "    for rowN in range(matrix.shape[0]):\n",
    "        Mrecommend = np.argsort(matrix[rowN])[-5:,]\n",
    "        Mrecommendation[rowN]=Mrecommend\n",
    "    #print np.unique(Mrecommendation)\n",
    "    #print len(np.unique(Mrecommendation))\n",
    "    \n",
    "    recommendOutput.append((len(np.unique(recommendation)), len(np.unique(Mrecommendation))))\n",
    "\n",
    "    #Count the number of same recommendations given by our result compared to the original matrix\n",
    "    count = 0\n",
    "    countall = 0\n",
    "    for user in range(result.shape[0]):\n",
    "        recommend = set(np.argsort(result[user])[-5:,])\n",
    "        Mrecomend = set(np.argsort(matrix[user])[-5:,])\n",
    "        if (recommend.intersection(Mrecomend) != set([])):\n",
    "            count+=1\n",
    "        if (recommend.intersection(Mrecomend) != Mrecomend):\n",
    "            countall+=1\n",
    "    #print count\n",
    "    \n",
    "    recommendOutput.append(count)\n",
    "    recommendOutput.append(countall)\n",
    "    \n",
    "    return recommendOutput"
   ]
  },
  {
   "cell_type": "code",
   "execution_count": 50,
   "metadata": {},
   "outputs": [
    {
     "name": "stdout",
     "output_type": "stream",
     "text": [
      "4150\n",
      "0.47563864655\n",
      "[(array([80, 77, 58, 37, 43, 62, 20, 70,  1, 49]), array([77, 37, 80, 58, 43, 20, 62, 70,  1, 49])), (100, 100), 9864, 9542]\n",
      "4139\n",
      "0.479190180119\n",
      "[(array([80, 77, 58, 37, 43, 62, 20, 70,  1, 49]), array([77, 37, 80, 58, 43, 20, 62, 70,  1, 49])), (100, 100), 9845, 9543]\n",
      "4137\n",
      "0.478898275561\n",
      "[(array([80, 77, 58, 37, 43, 62, 20, 70,  1, 49]), array([77, 37, 80, 58, 43, 20, 62, 70,  1, 49])), (100, 100), 9846, 9562]\n",
      "4138\n",
      "0.480339305536\n",
      "[(array([80, 77, 58, 37, 43, 62, 20, 70,  1, 49]), array([77, 37, 80, 58, 43, 20, 62, 70,  1, 49])), (100, 100), 9844, 9545]\n",
      "[147.35184502601624, 165.54736804962158, 183.07105994224548, 194.29551601409912]\n",
      "[0.4756386465502319, 0.47919018011903036, 0.4788982755612695, 0.48033930553607007]\n",
      "[[(array([80, 77, 58, 37, 43, 62, 20, 70,  1, 49]), array([77, 37, 80, 58, 43, 20, 62, 70,  1, 49])), (100, 100), 9864, 9542], [(array([80, 77, 58, 37, 43, 62, 20, 70,  1, 49]), array([77, 37, 80, 58, 43, 20, 62, 70,  1, 49])), (100, 100), 9845, 9543], [(array([80, 77, 58, 37, 43, 62, 20, 70,  1, 49]), array([77, 37, 80, 58, 43, 20, 62, 70,  1, 49])), (100, 100), 9846, 9562], [(array([80, 77, 58, 37, 43, 62, 20, 70,  1, 49]), array([77, 37, 80, 58, 43, 20, 62, 70,  1, 49])), (100, 100), 9844, 9545]]\n"
     ]
    }
   ],
   "source": [
    "thresholds = [0.3,0.5,0.6,0.7,0.75,0.8,0.85,0.9]\n",
    "permutations = [100,150,200,250]\n",
    "MRMSE = []\n",
    "RecommendResult = []\n",
    "Runtime = []\n",
    "for permutation in permutations:\n",
    "    start_time = timeit.default_timer()\n",
    "    modelResult = model(0.8,permutation)\n",
    "    elapsed = timeit.default_timer()-start_time\n",
    "    Runtime.append(elapsed)\n",
    "    modelRMSE = calculateRMSE(modelResult)\n",
    "    MRMSE.append(modelRMSE)\n",
    "    print modelRMSE\n",
    "    modelRecommend = recommendation(modelResult)\n",
    "    RecommendResult.append(modelRecommend)\n",
    "    print modelRecommend\n",
    "    \n",
    "print Runtime\n",
    "print MRMSE\n",
    "print RecommendResult"
   ]
  },
  {
   "cell_type": "code",
   "execution_count": 37,
   "metadata": {},
   "outputs": [
    {
     "name": "stdout",
     "output_type": "stream",
     "text": [
      "4137\n",
      "0.479385280436\n",
      "[(array([80, 77, 58, 37, 43, 62, 20, 70,  1, 49]), array([77, 37, 80, 58, 43, 20, 62, 70,  1, 49])), (100, 100), 9846, 9561]\n",
      "4137\n",
      "0.479385280436\n",
      "[(array([80, 77, 58, 37, 43, 62, 20, 70,  1, 49]), array([77, 37, 80, 58, 43, 20, 62, 70,  1, 49])), (100, 100), 9846, 9561]\n",
      "4137\n",
      "0.479371321266\n",
      "[(array([80, 77, 58, 37, 43, 62, 20, 70,  1, 49]), array([77, 37, 80, 58, 43, 20, 62, 70,  1, 49])), (100, 100), 9846, 9561]\n",
      "4137\n",
      "0.479393160586\n",
      "[(array([80, 77, 58, 37, 43, 62, 20, 70,  1, 49]), array([77, 37, 80, 58, 43, 20, 62, 70,  1, 49])), (100, 100), 9846, 9561]\n",
      "4855\n",
      "0.476049930232\n",
      "[(array([80, 77, 58, 37, 43, 62, 20, 70,  1, 49]), array([77, 37, 80, 58, 43, 20, 62, 70,  1, 49])), (100, 100), 9865, 9541]\n",
      "[114.7693121433258, 118.0986340045929, 123.17016100883484, 125.84952402114868, 162.07170391082764]\n",
      "[0.4793852804361218, 0.4793852804361218, 0.4793713212655214, 0.4793931605856193, 0.4760499302319335]\n",
      "[[(array([80, 77, 58, 37, 43, 62, 20, 70,  1, 49]), array([77, 37, 80, 58, 43, 20, 62, 70,  1, 49])), (100, 100), 9846, 9561], [(array([80, 77, 58, 37, 43, 62, 20, 70,  1, 49]), array([77, 37, 80, 58, 43, 20, 62, 70,  1, 49])), (100, 100), 9846, 9561], [(array([80, 77, 58, 37, 43, 62, 20, 70,  1, 49]), array([77, 37, 80, 58, 43, 20, 62, 70,  1, 49])), (100, 100), 9846, 9561], [(array([80, 77, 58, 37, 43, 62, 20, 70,  1, 49]), array([77, 37, 80, 58, 43, 20, 62, 70,  1, 49])), (100, 100), 9846, 9561], [(array([80, 77, 58, 37, 43, 62, 20, 70,  1, 49]), array([77, 37, 80, 58, 43, 20, 62, 70,  1, 49])), (100, 100), 9865, 9541]]\n"
     ]
    }
   ],
   "source": [
    "thresholds = [0.3,0.5,0.6,0.7,0.75,0.8,0.85,0.9]\n",
    "permutations = [100,150,200,250]\n",
    "parameters = [(1,100),(2,50),(4,25),(5,20),(10,10)]\n",
    "MRMSE = []\n",
    "RecommendResult = []\n",
    "Runtime = []\n",
    "for param in parameters:\n",
    "    start_time = timeit.default_timer()\n",
    "    modelResult = model(param,100)\n",
    "    elapsed = timeit.default_timer()-start_time\n",
    "    Runtime.append(elapsed)\n",
    "    modelRMSE = calculateRMSE(modelResult)\n",
    "    MRMSE.append(modelRMSE)\n",
    "    print modelRMSE\n",
    "    modelRecommend = recommendation(modelResult)\n",
    "    RecommendResult.append(modelRecommend)\n",
    "    print modelRecommend\n",
    "    \n",
    "print Runtime\n",
    "print MRMSE\n",
    "print RecommendResult"
   ]
  },
  {
   "cell_type": "code",
   "execution_count": 38,
   "metadata": {},
   "outputs": [
    {
     "name": "stdout",
     "output_type": "stream",
     "text": [
      "9667\n",
      "0.476493457345\n",
      "[(array([80, 77, 58, 37, 43, 20, 62, 70,  1, 49]), array([77, 37, 80, 58, 43, 20, 62, 70,  1, 49])), (100, 100), 9843, 9537]\n",
      "9933\n",
      "0.477140617994\n",
      "[(array([80, 37, 77, 43, 58, 20, 62, 70,  1, 49]), array([77, 37, 80, 58, 43, 20, 62, 70,  1, 49])), (100, 100), 9834, 9565]\n",
      "10000\n",
      "0.47667425483\n",
      "[(array([80, 77, 43, 58, 37, 20, 62, 70,  1, 49]), array([77, 37, 80, 58, 43, 20, 62, 70,  1, 49])), (100, 100), 9848, 9548]\n",
      "10000\n",
      "0.478706815097\n",
      "[(array([80, 77, 43, 37, 58, 20, 62, 70,  1, 49]), array([77, 37, 80, 58, 43, 20, 62, 70,  1, 49])), (100, 100), 9843, 9561]\n",
      "[366.38730001449585, 416.6616520881653, 600.303719997406, 1182.8339221477509]\n",
      "[0.4764934573450613, 0.47714061799375934, 0.47667425483016834, 0.4787068150970586]\n",
      "[[(array([80, 77, 58, 37, 43, 20, 62, 70,  1, 49]), array([77, 37, 80, 58, 43, 20, 62, 70,  1, 49])), (100, 100), 9843, 9537], [(array([80, 37, 77, 43, 58, 20, 62, 70,  1, 49]), array([77, 37, 80, 58, 43, 20, 62, 70,  1, 49])), (100, 100), 9834, 9565], [(array([80, 77, 43, 58, 37, 20, 62, 70,  1, 49]), array([77, 37, 80, 58, 43, 20, 62, 70,  1, 49])), (100, 100), 9848, 9548], [(array([80, 77, 43, 37, 58, 20, 62, 70,  1, 49]), array([77, 37, 80, 58, 43, 20, 62, 70,  1, 49])), (100, 100), 9843, 9561]]\n"
     ]
    }
   ],
   "source": [
    "thresholds = [0.3,0.5,0.6,0.7,0.75,0.8,0.85,0.9]\n",
    "permutations = [100,150,200,250]\n",
    "parameters = [(20,5),(25,4),(50,2),(100,1)]\n",
    "MRMSE = []\n",
    "RecommendResult = []\n",
    "Runtime = []\n",
    "for param in parameters:\n",
    "    start_time = timeit.default_timer()\n",
    "    modelResult = model(param,100)\n",
    "    elapsed = timeit.default_timer()-start_time\n",
    "    Runtime.append(elapsed)\n",
    "    modelRMSE = calculateRMSE(modelResult)\n",
    "    MRMSE.append(modelRMSE)\n",
    "    print modelRMSE\n",
    "    modelRecommend = recommendation(modelResult)\n",
    "    RecommendResult.append(modelRecommend)\n",
    "    print modelRecommend\n",
    "    \n",
    "print Runtime\n",
    "print MRMSE\n",
    "print RecommendResult"
   ]
  },
  {
   "cell_type": "code",
   "execution_count": 55,
   "metadata": {},
   "outputs": [
    {
     "name": "stdout",
     "output_type": "stream",
     "text": [
      "4855\n",
      "4855\n",
      "4855\n",
      "4855\n",
      "4855\n"
     ]
    }
   ],
   "source": [
    "thresholds = [0.3,0.5,0.7,0.75,0.8,0.85,0.9]\n",
    "permutations = [100]\n",
    "parameters = [(20,5),(25,4),(50,2),(100,1)]\n",
    "\n",
    "RMSEALL=[]\n",
    "RTALL = []\n",
    "RecALL = []\n",
    "for i in range(5):\n",
    "    MRMSE = []\n",
    "    RecommendResult = []\n",
    "    Runtime = []\n",
    "    for permutation in permutations:\n",
    "        start_time = timeit.default_timer()\n",
    "        modelResult = model((10,10),permutation)\n",
    "        elapsed = timeit.default_timer()-start_time\n",
    "        Runtime.append(elapsed)\n",
    "        modelRMSE = calculateRMSE(modelResult)\n",
    "        MRMSE.append(modelRMSE)\n",
    "        #print modelRMSE\n",
    "        modelRecommend = recommendation(modelResult)\n",
    "        RecommendResult.append(modelRecommend[2])\n",
    "        #print modelRecommend\n",
    "    RTALL.append(Runtime)\n",
    "    RMSEALL.append(MRMSE)\n",
    "    RecALL.append(RecommendResult)\n",
    "    \n",
    "#print Runtime\n",
    "#print MRMSE\n",
    "#print RecommendResult\n",
    "\n"
   ]
  },
  {
   "cell_type": "code",
   "execution_count": 56,
   "metadata": {},
   "outputs": [
    {
     "name": "stdout",
     "output_type": "stream",
     "text": [
      "[ 0.47604993]\n",
      "[ 170.06138439]\n",
      "[ 9865.]\n"
     ]
    }
   ],
   "source": [
    "print np.sum(RMSEALL, axis=0)/5.0\n",
    "print np.sum(RTALL, axis=0)/5.0\n",
    "print np.sum(RecALL, axis=0)/5.0"
   ]
  },
  {
   "cell_type": "code",
   "execution_count": null,
   "metadata": {
    "collapsed": true
   },
   "outputs": [],
   "source": []
  }
 ],
 "metadata": {
  "kernelspec": {
   "display_name": "Python 2",
   "language": "python",
   "name": "python2"
  },
  "language_info": {
   "codemirror_mode": {
    "name": "ipython",
    "version": 2
   },
   "file_extension": ".py",
   "mimetype": "text/x-python",
   "name": "python",
   "nbconvert_exporter": "python",
   "pygments_lexer": "ipython2",
   "version": "2.7.13"
  }
 },
 "nbformat": 4,
 "nbformat_minor": 2
}
