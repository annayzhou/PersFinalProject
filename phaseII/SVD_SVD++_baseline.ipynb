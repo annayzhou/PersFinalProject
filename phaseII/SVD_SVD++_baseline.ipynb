{
 "cells": [
  {
   "cell_type": "code",
   "execution_count": 43,
   "metadata": {
    "collapsed": true
   },
   "outputs": [],
   "source": [
    "from surprise import SVD\n",
    "import numpy as np\n",
    "import pandas as pd\n",
    "import matplotlib.pyplot as plt\n",
    "from sklearn.metrics.pairwise import pairwise_distances\n",
    "mydata = pd.read_csv('subset100k.csv')\n",
    "num = len(mydata['user_id'].unique())"
   ]
  },
  {
   "cell_type": "code",
   "execution_count": 44,
   "metadata": {
    "collapsed": true
   },
   "outputs": [],
   "source": [
    "# 0 means the hotel_cluster is clikced(interested) but not booked\n",
    "# 1 means the hotel_cluster is booked\n",
    "m = np.zeros((num,100))"
   ]
  },
  {
   "cell_type": "code",
   "execution_count": 45,
   "metadata": {},
   "outputs": [
    {
     "name": "stdout",
     "output_type": "stream",
     "text": [
      "63.0\n"
     ]
    }
   ],
   "source": [
    "#Build the user-item Matrix\n",
    "userid = mydata['user_id'].unique()\n",
    "hotelcluster = mydata['hotel_cluster'].unique()\n",
    "for index, row in mydata.iterrows():\n",
    "    rowNum = np.where(userid==row['user_id'])\n",
    "    colNum = np.where(hotelcluster==row['hotel_cluster'])\n",
    "    if m[rowNum,colNum]==0:\n",
    "        m[rowNum,colNum]=row['is_booking']+1\n",
    "    else:\n",
    "        m[rowNum,colNum] = m[rowNum,colNum]+row['is_booking']\n",
    "print (m.max())"
   ]
  },
  {
   "cell_type": "code",
   "execution_count": 46,
   "metadata": {},
   "outputs": [
    {
     "name": "stdout",
     "output_type": "stream",
     "text": [
      "<class 'pandas.core.frame.DataFrame'>\n",
      "RangeIndex: 1241363 entries, 0 to 1241362\n",
      "Data columns (total 3 columns):\n",
      "userID    1241363 non-null int64\n",
      "itemID    1241363 non-null int64\n",
      "rating    1241363 non-null int64\n",
      "dtypes: int64(3)\n",
      "memory usage: 28.4 MB\n"
     ]
    }
   ],
   "source": [
    "#generate user_id, hotel_cluster_id, rating matrix for svd\n",
    "data = []\n",
    "for i in range(num):\n",
    "    for j in range(100):\n",
    "        if m[i, j] > 0:\n",
    "            data.append([i,j,int(m[i,j])])\n",
    "data = np.asarray(data)\n",
    "#print (data.shape)\n",
    "df = pd.DataFrame(data, columns = ('userID', 'itemID', 'rating'))\n",
    "df.info()"
   ]
  },
  {
   "cell_type": "code",
   "execution_count": 47,
   "metadata": {
    "collapsed": true
   },
   "outputs": [],
   "source": [
    "#import relative functions\n",
    "import timeit\n",
    "from surprise import SVD\n",
    "from surprise import SVDpp\n",
    "from surprise import Dataset\n",
    "from surprise import Reader\n",
    "from surprise.accuracy import rmse\n",
    "from surprise import evaluate, print_perf\n",
    "from surprise import GridSearch\n",
    "from surprise import dump\n",
    "from surprise import accuracy"
   ]
  },
  {
   "cell_type": "code",
   "execution_count": 48,
   "metadata": {
    "collapsed": true
   },
   "outputs": [],
   "source": [
    "#define function whole_svd()\n",
    "def whole_svd(k):\n",
    "    algo = SVD(n_factors = k,n_epochs = 10, lr_all = 0.005, reg_all = 0.05)\n",
    "    upperBound = m.max()\n",
    "    reader = Reader(rating_scale=(0,upperBound))\n",
    "    data = Dataset.load_from_df(df[['userID', 'itemID', 'rating']], reader)\n",
    "    data.split(5)\n",
    "    result = []\n",
    "    for trainset, testset in data.folds():\n",
    "        algo.train(trainset)\n",
    "        predictions_svd = algo.test(testset)\n",
    "\n",
    "#    trainset = data.build_full_trainset() # build the train dataset from the whole dataset\n",
    "#    algo.train(trainset)\n",
    "\n",
    "        error = accuracy.rmse(predictions_svd, verbose=True) \n",
    "        result.append(error)\n",
    "        \n",
    "    return np.mean(result)\n"
   ]
  },
  {
   "cell_type": "code",
   "execution_count": 49,
   "metadata": {},
   "outputs": [
    {
     "name": "stdout",
     "output_type": "stream",
     "text": [
      "RMSE: 0.5542\n",
      "RMSE: 0.5754\n",
      "RMSE: 0.5472\n",
      "RMSE: 0.5534\n",
      "RMSE: 0.5625\n",
      "0.558545806838\n",
      "elapsed time: 86.876175\n"
     ]
    }
   ],
   "source": [
    "#implement the whole_svd function\n",
    "#with specified k\n",
    "k=15\n",
    "start_time = timeit.default_timer()\n",
    "error = whole_svd(k)\n",
    "elapsed = timeit.default_timer() - start_time\n",
    "print (error)\n",
    "print(\"elapsed time: %f\" % (elapsed))"
   ]
  },
  {
   "cell_type": "code",
   "execution_count": 55,
   "metadata": {
    "collapsed": true
   },
   "outputs": [],
   "source": [
    "#define function whole_svdpp()\n",
    "def whole_svdpp(k):\n",
    "    algo = SVDpp(n_factors = k,n_epochs = 10, lr_all = 0.005, reg_all = 0.05)\n",
    "    upperBound = m.max()\n",
    "    reader = Reader(rating_scale=(0,upperBound))\n",
    "    data = Dataset.load_from_df(df[['userID', 'itemID', 'rating']], reader)\n",
    "    data.split(5)\n",
    "    result = []\n",
    "    for trainset, testset in data.folds():\n",
    "        algo.train(trainset)\n",
    "        predictions_svdpp = algo.test(testset)\n",
    "\n",
    "#    trainset = data.build_full_trainset() # build the train dataset from the whole dataset\n",
    "#    algo.train(trainset)\n",
    "\n",
    "        error = accuracy.rmse(predictions_svdpp, verbose=True) \n",
    "        result.append(error)\n",
    "        \n",
    "    return np.mean(result), predictions_svdpp"
   ]
  },
  {
   "cell_type": "code",
   "execution_count": 51,
   "metadata": {},
   "outputs": [
    {
     "name": "stdout",
     "output_type": "stream",
     "text": [
      "RMSE: 0.5433\n",
      "RMSE: 0.5665\n",
      "RMSE: 0.5588\n",
      "RMSE: 0.5626\n",
      "RMSE: 0.5603\n",
      "0.55831564217\n",
      "elapsed time: 805.430916\n"
     ]
    }
   ],
   "source": [
    "#implement the whole_svdpp function\n",
    "#with specified k\n",
    "k=14\n",
    "start_time = timeit.default_timer()\n",
    "error = whole_svdpp(k)\n",
    "elapsed = timeit.default_timer() - start_time\n",
    "print(error)\n",
    "print(\"elapsed time: %f\" % (elapsed))"
   ]
  },
  {
   "cell_type": "code",
   "execution_count": 52,
   "metadata": {
    "collapsed": true
   },
   "outputs": [],
   "source": [
    "#baseline function by default use reg_all = 0.02, lr_all = 0.005, n_epochs = 20, same as SVD++ and SVD\n",
    "from surprise import BaselineOnly\n",
    "def baseline():\n",
    "    bsl_options = {'method': 'sgd',\n",
    "                   'reg':0.02,\n",
    "                   'learning_rate': .005,\n",
    "                   'n_epochs': 10   \n",
    "               }\n",
    "    algo = BaselineOnly(bsl_options=bsl_options)\n",
    "    upperBound = m.max()\n",
    "    reader = Reader(rating_scale=(0,upperBound))\n",
    "    data = Dataset.load_from_df(df[['userID', 'itemID', 'rating']], reader)\n",
    "    data.split(5)\n",
    "    result = []\n",
    "    for trainset, testset in data.folds():\n",
    "        algo.train(trainset)\n",
    "        predictions_baseline = algo.test(testset)\n",
    "\n",
    "#    trainset = data.build_full_trainset() # build the train dataset from the whole dataset\n",
    "#    algo.train(trainset)\n",
    "\n",
    "        error = accuracy.rmse(predictions_baseline, verbose=True) \n",
    "        result.append(error)\n",
    "        \n",
    "    return np.mean(result)\n"
   ]
  },
  {
   "cell_type": "code",
   "execution_count": 53,
   "metadata": {},
   "outputs": [
    {
     "name": "stdout",
     "output_type": "stream",
     "text": [
      "Estimating biases using sgd...\n",
      "RMSE: 0.5537\n",
      "Estimating biases using sgd...\n",
      "RMSE: 0.5517\n",
      "Estimating biases using sgd...\n",
      "RMSE: 0.5640\n",
      "Estimating biases using sgd...\n",
      "RMSE: 0.5679\n",
      "Estimating biases using sgd...\n",
      "RMSE: 0.5558\n",
      "baseline error is 0.558610\n"
     ]
    }
   ],
   "source": [
    "error_baseline = baseline()\n",
    "print ('baseline error is %f'%(error_baseline))"
   ]
  },
  {
   "cell_type": "code",
   "execution_count": null,
   "metadata": {
    "collapsed": true
   },
   "outputs": [],
   "source": [
    "#test coverage for the SVDpp algorithm by comparing top5 predicted rated items to original users' top5 rated items"
   ]
  },
  {
   "cell_type": "code",
   "execution_count": 54,
   "metadata": {},
   "outputs": [
    {
     "data": {
      "text/html": [
       "<div>\n",
       "<style>\n",
       "    .dataframe thead tr:only-child th {\n",
       "        text-align: right;\n",
       "    }\n",
       "\n",
       "    .dataframe thead th {\n",
       "        text-align: left;\n",
       "    }\n",
       "\n",
       "    .dataframe tbody tr th {\n",
       "        vertical-align: top;\n",
       "    }\n",
       "</style>\n",
       "<table border=\"1\" class=\"dataframe\">\n",
       "  <thead>\n",
       "    <tr style=\"text-align: right;\">\n",
       "      <th></th>\n",
       "      <th>userID</th>\n",
       "      <th>itemID</th>\n",
       "      <th>rating</th>\n",
       "    </tr>\n",
       "  </thead>\n",
       "  <tbody>\n",
       "    <tr>\n",
       "      <th>count</th>\n",
       "      <td>1.241363e+06</td>\n",
       "      <td>1.241363e+06</td>\n",
       "      <td>1.241363e+06</td>\n",
       "    </tr>\n",
       "    <tr>\n",
       "      <th>mean</th>\n",
       "      <td>6.010876e+05</td>\n",
       "      <td>4.874430e+01</td>\n",
       "      <td>1.201218e+00</td>\n",
       "    </tr>\n",
       "    <tr>\n",
       "      <th>std</th>\n",
       "      <td>3.474705e+05</td>\n",
       "      <td>2.917846e+01</td>\n",
       "      <td>5.801284e-01</td>\n",
       "    </tr>\n",
       "    <tr>\n",
       "      <th>min</th>\n",
       "      <td>5.300000e+01</td>\n",
       "      <td>0.000000e+00</td>\n",
       "      <td>1.000000e+00</td>\n",
       "    </tr>\n",
       "    <tr>\n",
       "      <th>25%</th>\n",
       "      <td>3.005850e+05</td>\n",
       "      <td>2.300000e+01</td>\n",
       "      <td>1.000000e+00</td>\n",
       "    </tr>\n",
       "    <tr>\n",
       "      <th>50%</th>\n",
       "      <td>5.991600e+05</td>\n",
       "      <td>4.800000e+01</td>\n",
       "      <td>1.000000e+00</td>\n",
       "    </tr>\n",
       "    <tr>\n",
       "      <th>75%</th>\n",
       "      <td>9.022930e+05</td>\n",
       "      <td>7.300000e+01</td>\n",
       "      <td>1.000000e+00</td>\n",
       "    </tr>\n",
       "    <tr>\n",
       "      <th>max</th>\n",
       "      <td>1.198757e+06</td>\n",
       "      <td>9.900000e+01</td>\n",
       "      <td>6.300000e+01</td>\n",
       "    </tr>\n",
       "  </tbody>\n",
       "</table>\n",
       "</div>"
      ],
      "text/plain": [
       "             userID        itemID        rating\n",
       "count  1.241363e+06  1.241363e+06  1.241363e+06\n",
       "mean   6.010876e+05  4.874430e+01  1.201218e+00\n",
       "std    3.474705e+05  2.917846e+01  5.801284e-01\n",
       "min    5.300000e+01  0.000000e+00  1.000000e+00\n",
       "25%    3.005850e+05  2.300000e+01  1.000000e+00\n",
       "50%    5.991600e+05  4.800000e+01  1.000000e+00\n",
       "75%    9.022930e+05  7.300000e+01  1.000000e+00\n",
       "max    1.198757e+06  9.900000e+01  6.300000e+01"
      ]
     },
     "execution_count": 54,
     "metadata": {},
     "output_type": "execute_result"
    }
   ],
   "source": [
    "df = mydata[['user_id','hotel_cluster','is_booking']]\n",
    "df = df.groupby(['user_id', 'hotel_cluster'],as_index=False)['is_booking'].sum()\n",
    "df = df.rename(columns={'user_id': 'userID', 'hotel_cluster': 'itemID', 'is_booking':'rating'})\n",
    "df['rating'] = df['rating']+1\n",
    "df.describe()"
   ]
  },
  {
   "cell_type": "code",
   "execution_count": 56,
   "metadata": {},
   "outputs": [
    {
     "name": "stdout",
     "output_type": "stream",
     "text": [
      "RMSE: 0.5486\n",
      "RMSE: 0.5459\n",
      "RMSE: 0.5548\n",
      "RMSE: 0.5715\n",
      "RMSE: 0.5698\n"
     ]
    }
   ],
   "source": [
    "k=14 #tuned best factor k\n",
    "error, predictions_svdpp = whole_svdpp(k)"
   ]
  },
  {
   "cell_type": "code",
   "execution_count": 57,
   "metadata": {},
   "outputs": [
    {
     "name": "stdout",
     "output_type": "stream",
     "text": [
      "0.558127572938\n"
     ]
    },
    {
     "data": {
      "text/html": [
       "<div>\n",
       "<style>\n",
       "    .dataframe thead tr:only-child th {\n",
       "        text-align: right;\n",
       "    }\n",
       "\n",
       "    .dataframe thead th {\n",
       "        text-align: left;\n",
       "    }\n",
       "\n",
       "    .dataframe tbody tr th {\n",
       "        vertical-align: top;\n",
       "    }\n",
       "</style>\n",
       "<table border=\"1\" class=\"dataframe\">\n",
       "  <thead>\n",
       "    <tr style=\"text-align: right;\">\n",
       "      <th></th>\n",
       "      <th>uid</th>\n",
       "      <th>iid</th>\n",
       "      <th>rui</th>\n",
       "      <th>est</th>\n",
       "      <th>err</th>\n",
       "    </tr>\n",
       "  </thead>\n",
       "  <tbody>\n",
       "    <tr>\n",
       "      <th>count</th>\n",
       "      <td>2.482720e+05</td>\n",
       "      <td>248272.000000</td>\n",
       "      <td>248272.000000</td>\n",
       "      <td>248272.000000</td>\n",
       "      <td>248272.000000</td>\n",
       "    </tr>\n",
       "    <tr>\n",
       "      <th>mean</th>\n",
       "      <td>6.004091e+05</td>\n",
       "      <td>48.650557</td>\n",
       "      <td>1.201372</td>\n",
       "      <td>1.241348</td>\n",
       "      <td>0.340060</td>\n",
       "    </tr>\n",
       "    <tr>\n",
       "      <th>std</th>\n",
       "      <td>3.478815e+05</td>\n",
       "      <td>29.121891</td>\n",
       "      <td>0.590417</td>\n",
       "      <td>0.153457</td>\n",
       "      <td>0.457236</td>\n",
       "    </tr>\n",
       "    <tr>\n",
       "      <th>min</th>\n",
       "      <td>5.300000e+01</td>\n",
       "      <td>0.000000</td>\n",
       "      <td>1.000000</td>\n",
       "      <td>0.881552</td>\n",
       "      <td>0.000003</td>\n",
       "    </tr>\n",
       "    <tr>\n",
       "      <th>25%</th>\n",
       "      <td>2.986018e+05</td>\n",
       "      <td>23.000000</td>\n",
       "      <td>1.000000</td>\n",
       "      <td>1.149530</td>\n",
       "      <td>0.154541</td>\n",
       "    </tr>\n",
       "    <tr>\n",
       "      <th>50%</th>\n",
       "      <td>5.976970e+05</td>\n",
       "      <td>48.000000</td>\n",
       "      <td>1.000000</td>\n",
       "      <td>1.220235</td>\n",
       "      <td>0.233937</td>\n",
       "    </tr>\n",
       "    <tr>\n",
       "      <th>75%</th>\n",
       "      <td>9.023640e+05</td>\n",
       "      <td>73.000000</td>\n",
       "      <td>1.000000</td>\n",
       "      <td>1.299412</td>\n",
       "      <td>0.353630</td>\n",
       "    </tr>\n",
       "    <tr>\n",
       "      <th>max</th>\n",
       "      <td>1.198757e+06</td>\n",
       "      <td>99.000000</td>\n",
       "      <td>63.000000</td>\n",
       "      <td>4.099155</td>\n",
       "      <td>61.159061</td>\n",
       "    </tr>\n",
       "  </tbody>\n",
       "</table>\n",
       "</div>"
      ],
      "text/plain": [
       "                uid            iid            rui            est  \\\n",
       "count  2.482720e+05  248272.000000  248272.000000  248272.000000   \n",
       "mean   6.004091e+05      48.650557       1.201372       1.241348   \n",
       "std    3.478815e+05      29.121891       0.590417       0.153457   \n",
       "min    5.300000e+01       0.000000       1.000000       0.881552   \n",
       "25%    2.986018e+05      23.000000       1.000000       1.149530   \n",
       "50%    5.976970e+05      48.000000       1.000000       1.220235   \n",
       "75%    9.023640e+05      73.000000       1.000000       1.299412   \n",
       "max    1.198757e+06      99.000000      63.000000       4.099155   \n",
       "\n",
       "                 err  \n",
       "count  248272.000000  \n",
       "mean        0.340060  \n",
       "std         0.457236  \n",
       "min         0.000003  \n",
       "25%         0.154541  \n",
       "50%         0.233937  \n",
       "75%         0.353630  \n",
       "max        61.159061  "
      ]
     },
     "execution_count": 57,
     "metadata": {},
     "output_type": "execute_result"
    }
   ],
   "source": [
    "df_svdpp = pd.DataFrame(predictions_svdpp, columns=['uid', 'iid', 'rui', 'est', 'details']) \n",
    "df_svdpp['err'] = abs(df_svdpp.est - df_svdpp.rui)\n",
    "print (error)\n",
    "df_svdpp.describe()"
   ]
  },
  {
   "cell_type": "code",
   "execution_count": 58,
   "metadata": {},
   "outputs": [
    {
     "name": "stdout",
     "output_type": "stream",
     "text": [
      "4.09915510376\n"
     ]
    }
   ],
   "source": [
    "#Build the rate Matrix\n",
    "result = np.zeros((num,100))\n",
    "userid = mydata['user_id'].unique()\n",
    "hotelcluster = mydata['hotel_cluster'].unique()\n",
    "for index, row in df_svdpp.iterrows():\n",
    "    rowNum = np.where(userid==row['uid'])\n",
    "    colNum = np.where(hotelcluster==row['iid'])\n",
    "    result[rowNum,colNum]=row['est']\n",
    "print (result.max())"
   ]
  },
  {
   "cell_type": "code",
   "execution_count": 59,
   "metadata": {},
   "outputs": [
    {
     "name": "stdout",
     "output_type": "stream",
     "text": [
      "76964\n"
     ]
    }
   ],
   "source": [
    "#Count the number of same recommendations given by our result compared to the original matrix\n",
    "count = 0\n",
    "for rowNum in range(result.shape[0]):\n",
    "    recommend = set(np.argsort(result[rowNum,:])[-5:,])\n",
    "    Mrecommend = set(np.argsort(m[rowNum,:])[-5:,])\n",
    "    if (recommend.intersection(Mrecommend)) != set([]):\n",
    "        count+=1\n",
    "print (count)"
   ]
  },
  {
   "cell_type": "code",
   "execution_count": null,
   "metadata": {
    "collapsed": true
   },
   "outputs": [],
   "source": []
  }
 ],
 "metadata": {
  "kernelspec": {
   "display_name": "Python 3",
   "language": "python",
   "name": "python3"
  },
  "language_info": {
   "codemirror_mode": {
    "name": "ipython",
    "version": 3
   },
   "file_extension": ".py",
   "mimetype": "text/x-python",
   "name": "python",
   "nbconvert_exporter": "python",
   "pygments_lexer": "ipython3",
   "version": "3.6.2"
  }
 },
 "nbformat": 4,
 "nbformat_minor": 2
}
